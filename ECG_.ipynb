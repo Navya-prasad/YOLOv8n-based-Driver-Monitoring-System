{
  "nbformat": 4,
  "nbformat_minor": 0,
  "metadata": {
    "colab": {
      "provenance": [],
      "mount_file_id": "1ryZcIf-hhjRDwik14YZK_9IlwXmQ1q6v",
      "authorship_tag": "ABX9TyNYeADvc8amO4lgDZTSMfx2",
      "include_colab_link": true
    },
    "kernelspec": {
      "name": "python3",
      "display_name": "Python 3"
    },
    "language_info": {
      "name": "python"
    }
  },
  "cells": [
    {
      "cell_type": "markdown",
      "metadata": {
        "id": "view-in-github",
        "colab_type": "text"
      },
      "source": [
        "<a href=\"https://colab.research.google.com/github/Navya-prasad/YOLOv8n-based-Driver-Monitoring-System/blob/main/ECG_.ipynb\" target=\"_parent\"><img src=\"https://colab.research.google.com/assets/colab-badge.svg\" alt=\"Open In Colab\"/></a>"
      ]
    },
    {
      "cell_type": "code",
      "source": [],
      "metadata": {
        "id": "IYPkon5C1EjF"
      },
      "execution_count": null,
      "outputs": []
    },
    {
      "cell_type": "code",
      "source": [],
      "metadata": {
        "id": "D7wSZXHL1JDx"
      },
      "execution_count": null,
      "outputs": []
    },
    {
      "cell_type": "code",
      "execution_count": null,
      "metadata": {
        "id": "wOVSdbkA0cxA"
      },
      "outputs": [],
      "source": [
        "import cv2\n",
        "import numpy as np\n",
        "import os\n",
        "import glob\n",
        "from sklearn.model_selection import train_test_split\n",
        "from pathlib import Path\n",
        "\n",
        "# ==== PATHS ====\n",
        "input_dir = \"ecg_dataset_raw\"       # folder with raw images\n",
        "processed_dir = \"ecg_dataset_processed\"\n",
        "train_dir = os.path.join(processed_dir, \"train\")\n",
        "val_dir = os.path.join(processed_dir, \"val\")\n",
        "\n",
        "# ==== PARAMETERS ====\n",
        "crop_width = 2030\n",
        "crop_height = 1180\n",
        "\n",
        "# ==== CREATE FOLDERS ====\n",
        "os.makedirs(train_dir, exist_ok=True)\n",
        "os.makedirs(val_dir, exist_ok=True)\n",
        "\n",
        "def preprocess_ecg(image_path):\n",
        "    # Load image\n",
        "    img = cv2.imread(image_path)\n",
        "\n",
        "    # Step 1: Auto crop (centered crop to 2030x1180)\n",
        "    h, w = img.shape[:2]\n",
        "    start_x = (w - crop_width) // 2\n",
        "    start_y = (h - crop_height) // 2\n",
        "    cropped = img[start_y:start_y+crop_height, start_x:start_x+crop_width]\n",
        "\n",
        "    # Step 2: Remove grid lines\n",
        "    gray = cv2.cvtColor(cropped, cv2.COLOR_BGR2GRAY)\n",
        "\n",
        "    # Otsu thresholding\n",
        "    _, thresh = cv2.threshold(gray, 0, 255, cv2.THRESH_BINARY_INV + cv2.THRESH_OTSU)\n",
        "\n",
        "    # Morphological opening to remove small lines\n",
        "    kernel = np.ones((1, 1), np.uint8)\n",
        "    morph = cv2.morphologyEx(thresh, cv2.MORPH_OPEN, kernel)\n",
        "\n",
        "    # Step 3: Canny Edge Detection\n",
        "    edges = cv2.Canny(morph, 50, 150)\n",
        "\n",
        "    # Step 4: Mask application (Inverse contour to keep ECG waveform)\n",
        "    mask = cv2.bitwise_not(morph)\n",
        "    result = cv2.bitwise_and(gray, gray, mask=mask)\n",
        "\n",
        "    # Step 5: Histogram Equalization\n",
        "    enhanced = cv2.equalizeHist(result)\n",
        "\n",
        "    return enhanced\n",
        "\n",
        "# ==== LOAD ALL IMAGES ====\n",
        "image_paths = glob.glob(os.path.join(input_dir, \"*.jpg\")) + \\\n",
        "              glob.glob(os.path.join(input_dir, \"*.png\")) + \\\n",
        "              glob.glob(os.path.join(input_dir, \"*.jpeg\"))\n",
        "\n",
        "# ==== TRAIN/VAL SPLIT ====\n",
        "train_files, val_files = train_test_split(image_paths, test_size=0.2, random_state=42)\n",
        "\n",
        "# ==== PROCESS & SAVE ====\n",
        "for file_list, out_dir in [(train_files, train_dir), (val_files, val_dir)]:\n",
        "    for img_path in file_list:\n",
        "        processed_img = preprocess_ecg(img_path)\n",
        "        filename = Path(img_path).name\n",
        "        cv2.imwrite(os.path.join(out_dir, filename), processed_img)\n",
        "\n",
        "print(f\"Processing complete: {len(train_files)} train, {len(val_files)} val images saved.\")\n"
      ]
    }
  ]
}